{
  "nbformat": 4,
  "nbformat_minor": 0,
  "metadata": {
    "colab": {
      "name": "json.ipynb",
      "provenance": []
    },
    "kernelspec": {
      "name": "python3",
      "display_name": "Python 3"
    },
    "language_info": {
      "name": "python"
    }
  },
  "cells": [
    {
      "cell_type": "code",
      "metadata": {
        "id": "tgxY6xwOXxTx"
      },
      "source": [
        "record = { 1001 : {'name' : 'mic', \"price\": 150 , \"qn\": 40, \"billi\": 138 },\n",
        "       1002 : {'name' : 'earphone', \"price\": 520 , \"qn\": 45, \"billi\": 229 },\n",
        "       1003 : {'name' : 'phone', \"price\": 1500 , \"qn\": 36, \"billi\": 324 },\n",
        "       1004 : {'name' : 'charger', \"price\": 150 , \"qn\": 26, \"billi\": 332 },\n",
        "       1005 : {'name' : 'batery', \"price\": 350 , \"qn\": 47, \"billi\": 232 },\n",
        "       1006 : {'name' : 'otg', \"price\": 50 , \"qn\": 65, \"billi\": 256 },\n",
        "       1007 : {'name' : 'tshirt', \"price\": 150 , \"qn\": 27, \"billi\": 262 },\n",
        "       1008 : {'name' : 'jeans', \"price\": 500 , \"qn\": 57, \"billi\": 126 },\n",
        "       1009 : {'name' : 'shoes', \"price\": 600 , \"qn\": 20, \"billi\": 253 },\n",
        "       1010 : {'name' : 'footwear', \"price\": 160 , \"qn\": 60, \"billi\": 352 },\n",
        "       1011 : {'name' : 'back cover', \"price\": 350 , \"qn\": 50, \"billi\": 252 },\n",
        "       1012 : {'name' : 'laptop', \"price\": 15000 , \"qn\": 70, \"billi\": 522 },\n",
        "       1013 : {'name' : 'memory', \"price\": 450 , \"qn\": 20, \"billi\": 263 },\n",
        "       1003 : {'name' : 'speaker', \"price\": 1800 , \"qn\": 60, \"billi\": 323 },\n",
        "       1014 : {'name' : 'temper glass', \"price\": 150 , \"qn\": 60, \"billi\": 122 },\n",
        "       1015 : {'name' : 'milk biscuit', \"price\": 5 , \"qn\": 80, \"billi\": 122 },\n",
        "       1016 : {'name' : '5 star', \"price\": 5 , \"qn\": 80, \"billi\": 133 },\n",
        "       1017 : {'name' : 'pepsi', \"price\": 60 , \"qn\": 80, \"billi\": 123 },\n",
        "       1018 : {'name' : 'dalbut', \"price\": 10 , \"qn\": 30, \"billi\": 126 },\n",
        "       1019 : {'name' : 'cycle', \"price\": 3000 , \"qn\": 45, \"billi\": 120 },\n",
        "       1020 : {'name' : 'bike', \"price\": 50000 , \"qn\": 90, \"billi\": 1233 },\n",
        "       1021 : {'name' : 'car', \"price\": 1500000 , \"qn\": 18, \"billi\": 125 },\n",
        "       1022 : {'name' : 'pliers', \"price\": 180 , \"qn\": 19, \"billi\": 125 },\n",
        "       1023 : {'name' : 'pechkas', \"price\": 100 , \"qn\": 29, \"billi\": 128 },\n",
        "       1024 : {'name' : 'keyboard', \"price\": 200 , \"qn\": 39, \"billi\": 129 },\n",
        "       1025 : {'name' : 'mouse', \"price\": 350 , \"qn\": 67, \"billi\": 123 },\n",
        "       1026 : {'name' : 'chocolate', \"price\": 5 , \"qn\": 67, \"billi\": 121 },\n",
        "       1027 : {'name' : 'switch', \"price\": 10 , \"qn\": 89, \"billi\": 134 },\n",
        "       1028 : {'name' : 'tv', \"price\": 10000 , \"qn\": 28, \"billi\": 156 },\n",
        "       1029 : {'name' : 'cooler', \"price\": 15000 , \"qn\": 38, \"billi\": 138 },\n",
        "       1030 : {'name' : 'ac', \"price\": 18000 , \"qn\": 48, \"billi\": 128 }}"
      ],
      "execution_count": 12,
      "outputs": []
    },
    {
      "cell_type": "code",
      "metadata": {
        "colab": {
          "base_uri": "https://localhost:8080/"
        },
        "id": "ZVy63wDSYRGw",
        "outputId": "e2463b77-d741-4ec2-f146-06fa0cb5391e"
      },
      "source": [
        "(record)"
      ],
      "execution_count": 26,
      "outputs": [
        {
          "output_type": "execute_result",
          "data": {
            "text/plain": [
              "{1001: {'billi': 138, 'name': 'mic', 'price': 150, 'qn': 40},\n",
              " 1002: {'billi': 229, 'name': 'earphone', 'price': 520, 'qn': 45},\n",
              " 1003: {'billi': 323, 'name': 'speaker', 'price': 1800, 'qn': 60},\n",
              " 1004: {'billi': 332, 'name': 'charger', 'price': 150, 'qn': 26},\n",
              " 1005: {'billi': 232, 'name': 'batery', 'price': 350, 'qn': 47},\n",
              " 1006: {'billi': 256, 'name': 'otg', 'price': 50, 'qn': 65},\n",
              " 1007: {'billi': 262, 'name': 'tshirt', 'price': 150, 'qn': 27},\n",
              " 1008: {'billi': 126, 'name': 'jeans', 'price': 500, 'qn': 57},\n",
              " 1009: {'billi': 253, 'name': 'shoes', 'price': 600, 'qn': 20},\n",
              " 1010: {'billi': 352, 'name': 'footwear', 'price': 160, 'qn': 60},\n",
              " 1011: {'billi': 252, 'name': 'back cover', 'price': 350, 'qn': 50},\n",
              " 1012: {'billi': 522, 'name': 'laptop', 'price': 15000, 'qn': 70},\n",
              " 1013: {'billi': 263, 'name': 'memory', 'price': 450, 'qn': 20},\n",
              " 1014: {'billi': 122, 'name': 'temper glass', 'price': 150, 'qn': 60},\n",
              " 1015: {'billi': 122, 'name': 'milk biscuit', 'price': 5, 'qn': 80},\n",
              " 1016: {'billi': 133, 'name': '5 star', 'price': 5, 'qn': 80},\n",
              " 1017: {'billi': 123, 'name': 'pepsi', 'price': 60, 'qn': 80},\n",
              " 1018: {'billi': 126, 'name': 'dalbut', 'price': 10, 'qn': 30},\n",
              " 1019: {'billi': 120, 'name': 'cycle', 'price': 3000, 'qn': 45},\n",
              " 1020: {'billi': 1233, 'name': 'bike', 'price': 50000, 'qn': 90},\n",
              " 1021: {'billi': 125, 'name': 'car', 'price': 1500000, 'qn': 18},\n",
              " 1022: {'billi': 125, 'name': 'pliers', 'price': 180, 'qn': 19},\n",
              " 1023: {'billi': 128, 'name': 'pechkas', 'price': 100, 'qn': 29},\n",
              " 1024: {'billi': 129, 'name': 'keyboard', 'price': 200, 'qn': 39},\n",
              " 1025: {'billi': 123, 'name': 'mouse', 'price': 350, 'qn': 67},\n",
              " 1026: {'billi': 121, 'name': 'chocolate', 'price': 5, 'qn': 67},\n",
              " 1027: {'billi': 134, 'name': 'switch', 'price': 10, 'qn': 89},\n",
              " 1028: {'billi': 156, 'name': 'tv', 'price': 10000, 'qn': 28},\n",
              " 1029: {'billi': 138, 'name': 'cooler', 'price': 15000, 'qn': 38},\n",
              " 1030: {'billi': 128, 'name': 'ac', 'price': 18000, 'qn': 48}}"
            ]
          },
          "metadata": {},
          "execution_count": 26
        }
      ]
    },
    {
      "cell_type": "code",
      "metadata": {
        "id": "x-LsMgDAmc4T"
      },
      "source": [
        "import json"
      ],
      "execution_count": 34,
      "outputs": []
    },
    {
      "cell_type": "code",
      "metadata": {
        "id": "DuLHXTyAmf9U"
      },
      "source": [
        "js = json.dumps(record)"
      ],
      "execution_count": 35,
      "outputs": []
    },
    {
      "cell_type": "code",
      "metadata": {
        "id": "nRk0IfDrmn4s",
        "outputId": "71504d34-ef40-4e62-9092-3caecfb51cd1",
        "colab": {
          "base_uri": "https://localhost:8080/",
          "height": 171
        }
      },
      "source": [
        "js"
      ],
      "execution_count": 36,
      "outputs": [
        {
          "output_type": "execute_result",
          "data": {
            "application/vnd.google.colaboratory.intrinsic+json": {
              "type": "string"
            },
            "text/plain": [
              "'{\"1001\": {\"name\": \"mic\", \"price\": 150, \"qn\": 40, \"billi\": 138}, \"1002\": {\"name\": \"earphone\", \"price\": 520, \"qn\": 45, \"billi\": 229}, \"1003\": {\"name\": \"speaker\", \"price\": 1800, \"qn\": 60, \"billi\": 323}, \"1004\": {\"name\": \"charger\", \"price\": 150, \"qn\": 26, \"billi\": 332}, \"1005\": {\"name\": \"batery\", \"price\": 350, \"qn\": 47, \"billi\": 232}, \"1006\": {\"name\": \"otg\", \"price\": 50, \"qn\": 65, \"billi\": 256}, \"1007\": {\"name\": \"tshirt\", \"price\": 150, \"qn\": 27, \"billi\": 262}, \"1008\": {\"name\": \"jeans\", \"price\": 500, \"qn\": 57, \"billi\": 126}, \"1009\": {\"name\": \"shoes\", \"price\": 600, \"qn\": 20, \"billi\": 253}, \"1010\": {\"name\": \"footwear\", \"price\": 160, \"qn\": 60, \"billi\": 352}, \"1011\": {\"name\": \"back cover\", \"price\": 350, \"qn\": 50, \"billi\": 252}, \"1012\": {\"name\": \"laptop\", \"price\": 15000, \"qn\": 70, \"billi\": 522}, \"1013\": {\"name\": \"memory\", \"price\": 450, \"qn\": 20, \"billi\": 263}, \"1014\": {\"name\": \"temper glass\", \"price\": 150, \"qn\": 60, \"billi\": 122}, \"1015\": {\"name\": \"milk biscuit\", \"price\": 5, \"qn\": 80, \"billi\": 122}, \"1016\": {\"name\": \"5 star\", \"price\": 5, \"qn\": 80, \"billi\": 133}, \"1017\": {\"name\": \"pepsi\", \"price\": 60, \"qn\": 80, \"billi\": 123}, \"1018\": {\"name\": \"dalbut\", \"price\": 10, \"qn\": 30, \"billi\": 126}, \"1019\": {\"name\": \"cycle\", \"price\": 3000, \"qn\": 45, \"billi\": 120}, \"1020\": {\"name\": \"bike\", \"price\": 50000, \"qn\": 90, \"billi\": 1233}, \"1021\": {\"name\": \"car\", \"price\": 1500000, \"qn\": 18, \"billi\": 125}, \"1022\": {\"name\": \"pliers\", \"price\": 180, \"qn\": 19, \"billi\": 125}, \"1023\": {\"name\": \"pechkas\", \"price\": 100, \"qn\": 29, \"billi\": 128}, \"1024\": {\"name\": \"keyboard\", \"price\": 200, \"qn\": 39, \"billi\": 129}, \"1025\": {\"name\": \"mouse\", \"price\": 350, \"qn\": 67, \"billi\": 123}, \"1026\": {\"name\": \"chocolate\", \"price\": 5, \"qn\": 67, \"billi\": 121}, \"1027\": {\"name\": \"switch\", \"price\": 10, \"qn\": 89, \"billi\": 134}, \"1028\": {\"name\": \"tv\", \"price\": 10000, \"qn\": 28, \"billi\": 156}, \"1029\": {\"name\": \"cooler\", \"price\": 15000, \"qn\": 38, \"billi\": 138}, \"1030\": {\"name\": \"ac\", \"price\": 18000, \"qn\": 48, \"billi\": 128}}'"
            ]
          },
          "metadata": {},
          "execution_count": 36
        }
      ]
    },
    {
      "cell_type": "code",
      "metadata": {
        "id": "F_0T8Myzmqkg"
      },
      "source": [
        "fd = open(\"record.json\",'w')\n",
        "fd.write(js)\n",
        "\n",
        "fd.close()"
      ],
      "execution_count": 38,
      "outputs": []
    },
    {
      "cell_type": "code",
      "metadata": {
        "id": "IrZb7hbkoaJB"
      },
      "source": [
        "fd = open(\"record.json\",'r')\n",
        "txt = fd.read()\n",
        "fd.close()"
      ],
      "execution_count": 39,
      "outputs": []
    },
    {
      "cell_type": "code",
      "metadata": {
        "id": "sTCMT3GqopP9",
        "outputId": "3cbc1e0e-cbb5-4775-f866-d7d77dcc05f6",
        "colab": {
          "base_uri": "https://localhost:8080/",
          "height": 171
        }
      },
      "source": [
        "txt"
      ],
      "execution_count": 40,
      "outputs": [
        {
          "output_type": "execute_result",
          "data": {
            "application/vnd.google.colaboratory.intrinsic+json": {
              "type": "string"
            },
            "text/plain": [
              "'{\"1001\": {\"name\": \"mic\", \"price\": 150, \"qn\": 40, \"billi\": 138}, \"1002\": {\"name\": \"earphone\", \"price\": 520, \"qn\": 45, \"billi\": 229}, \"1003\": {\"name\": \"speaker\", \"price\": 1800, \"qn\": 60, \"billi\": 323}, \"1004\": {\"name\": \"charger\", \"price\": 150, \"qn\": 26, \"billi\": 332}, \"1005\": {\"name\": \"batery\", \"price\": 350, \"qn\": 47, \"billi\": 232}, \"1006\": {\"name\": \"otg\", \"price\": 50, \"qn\": 65, \"billi\": 256}, \"1007\": {\"name\": \"tshirt\", \"price\": 150, \"qn\": 27, \"billi\": 262}, \"1008\": {\"name\": \"jeans\", \"price\": 500, \"qn\": 57, \"billi\": 126}, \"1009\": {\"name\": \"shoes\", \"price\": 600, \"qn\": 20, \"billi\": 253}, \"1010\": {\"name\": \"footwear\", \"price\": 160, \"qn\": 60, \"billi\": 352}, \"1011\": {\"name\": \"back cover\", \"price\": 350, \"qn\": 50, \"billi\": 252}, \"1012\": {\"name\": \"laptop\", \"price\": 15000, \"qn\": 70, \"billi\": 522}, \"1013\": {\"name\": \"memory\", \"price\": 450, \"qn\": 20, \"billi\": 263}, \"1014\": {\"name\": \"temper glass\", \"price\": 150, \"qn\": 60, \"billi\": 122}, \"1015\": {\"name\": \"milk biscuit\", \"price\": 5, \"qn\": 80, \"billi\": 122}, \"1016\": {\"name\": \"5 star\", \"price\": 5, \"qn\": 80, \"billi\": 133}, \"1017\": {\"name\": \"pepsi\", \"price\": 60, \"qn\": 80, \"billi\": 123}, \"1018\": {\"name\": \"dalbut\", \"price\": 10, \"qn\": 30, \"billi\": 126}, \"1019\": {\"name\": \"cycle\", \"price\": 3000, \"qn\": 45, \"billi\": 120}, \"1020\": {\"name\": \"bike\", \"price\": 50000, \"qn\": 90, \"billi\": 1233}, \"1021\": {\"name\": \"car\", \"price\": 1500000, \"qn\": 18, \"billi\": 125}, \"1022\": {\"name\": \"pliers\", \"price\": 180, \"qn\": 19, \"billi\": 125}, \"1023\": {\"name\": \"pechkas\", \"price\": 100, \"qn\": 29, \"billi\": 128}, \"1024\": {\"name\": \"keyboard\", \"price\": 200, \"qn\": 39, \"billi\": 129}, \"1025\": {\"name\": \"mouse\", \"price\": 350, \"qn\": 67, \"billi\": 123}, \"1026\": {\"name\": \"chocolate\", \"price\": 5, \"qn\": 67, \"billi\": 121}, \"1027\": {\"name\": \"switch\", \"price\": 10, \"qn\": 89, \"billi\": 134}, \"1028\": {\"name\": \"tv\", \"price\": 10000, \"qn\": 28, \"billi\": 156}, \"1029\": {\"name\": \"cooler\", \"price\": 15000, \"qn\": 38, \"billi\": 138}, \"1030\": {\"name\": \"ac\", \"price\": 18000, \"qn\": 48, \"billi\": 128}}'"
            ]
          },
          "metadata": {},
          "execution_count": 40
        }
      ]
    },
    {
      "cell_type": "code",
      "metadata": {
        "id": "GyCYy7fJoqsW"
      },
      "source": [
        "record = json.loads(txt)"
      ],
      "execution_count": 42,
      "outputs": []
    },
    {
      "cell_type": "code",
      "metadata": {
        "id": "en39PSC1o9zC",
        "outputId": "4950d9c6-d3cc-4a9d-9123-2c9545baef38",
        "colab": {
          "base_uri": "https://localhost:8080/"
        }
      },
      "source": [
        "record"
      ],
      "execution_count": 43,
      "outputs": [
        {
          "output_type": "execute_result",
          "data": {
            "text/plain": [
              "{'1001': {'billi': 138, 'name': 'mic', 'price': 150, 'qn': 40},\n",
              " '1002': {'billi': 229, 'name': 'earphone', 'price': 520, 'qn': 45},\n",
              " '1003': {'billi': 323, 'name': 'speaker', 'price': 1800, 'qn': 60},\n",
              " '1004': {'billi': 332, 'name': 'charger', 'price': 150, 'qn': 26},\n",
              " '1005': {'billi': 232, 'name': 'batery', 'price': 350, 'qn': 47},\n",
              " '1006': {'billi': 256, 'name': 'otg', 'price': 50, 'qn': 65},\n",
              " '1007': {'billi': 262, 'name': 'tshirt', 'price': 150, 'qn': 27},\n",
              " '1008': {'billi': 126, 'name': 'jeans', 'price': 500, 'qn': 57},\n",
              " '1009': {'billi': 253, 'name': 'shoes', 'price': 600, 'qn': 20},\n",
              " '1010': {'billi': 352, 'name': 'footwear', 'price': 160, 'qn': 60},\n",
              " '1011': {'billi': 252, 'name': 'back cover', 'price': 350, 'qn': 50},\n",
              " '1012': {'billi': 522, 'name': 'laptop', 'price': 15000, 'qn': 70},\n",
              " '1013': {'billi': 263, 'name': 'memory', 'price': 450, 'qn': 20},\n",
              " '1014': {'billi': 122, 'name': 'temper glass', 'price': 150, 'qn': 60},\n",
              " '1015': {'billi': 122, 'name': 'milk biscuit', 'price': 5, 'qn': 80},\n",
              " '1016': {'billi': 133, 'name': '5 star', 'price': 5, 'qn': 80},\n",
              " '1017': {'billi': 123, 'name': 'pepsi', 'price': 60, 'qn': 80},\n",
              " '1018': {'billi': 126, 'name': 'dalbut', 'price': 10, 'qn': 30},\n",
              " '1019': {'billi': 120, 'name': 'cycle', 'price': 3000, 'qn': 45},\n",
              " '1020': {'billi': 1233, 'name': 'bike', 'price': 50000, 'qn': 90},\n",
              " '1021': {'billi': 125, 'name': 'car', 'price': 1500000, 'qn': 18},\n",
              " '1022': {'billi': 125, 'name': 'pliers', 'price': 180, 'qn': 19},\n",
              " '1023': {'billi': 128, 'name': 'pechkas', 'price': 100, 'qn': 29},\n",
              " '1024': {'billi': 129, 'name': 'keyboard', 'price': 200, 'qn': 39},\n",
              " '1025': {'billi': 123, 'name': 'mouse', 'price': 350, 'qn': 67},\n",
              " '1026': {'billi': 121, 'name': 'chocolate', 'price': 5, 'qn': 67},\n",
              " '1027': {'billi': 134, 'name': 'switch', 'price': 10, 'qn': 89},\n",
              " '1028': {'billi': 156, 'name': 'tv', 'price': 10000, 'qn': 28},\n",
              " '1029': {'billi': 138, 'name': 'cooler', 'price': 15000, 'qn': 38},\n",
              " '1030': {'billi': 128, 'name': 'ac', 'price': 18000, 'qn': 48}}"
            ]
          },
          "metadata": {},
          "execution_count": 43
        }
      ]
    },
    {
      "cell_type": "code",
      "metadata": {
        "id": "eSZWce_YpJV4"
      },
      "source": [
        "import time"
      ],
      "execution_count": 44,
      "outputs": []
    },
    {
      "cell_type": "code",
      "metadata": {
        "id": "N1NJeLJcpSM6",
        "outputId": "ff2f00e5-1eb9-417d-91de-656b40f3debd",
        "colab": {
          "base_uri": "https://localhost:8080/",
          "height": 35
        }
      },
      "source": [
        "time.ctime()"
      ],
      "execution_count": 45,
      "outputs": [
        {
          "output_type": "execute_result",
          "data": {
            "application/vnd.google.colaboratory.intrinsic+json": {
              "type": "string"
            },
            "text/plain": [
              "'Mon Sep  6 15:06:28 2021'"
            ]
          },
          "metadata": {},
          "execution_count": 45
        }
      ]
    },
    {
      "cell_type": "code",
      "metadata": {
        "id": "JdmqyKU2sS-U"
      },
      "source": [
        "fd = open(\"record.json\",'r')\n",
        "r = fd.read()\n",
        "fd.close()\n",
        "\n",
        "record = json.loads(r)"
      ],
      "execution_count": 54,
      "outputs": []
    },
    {
      "cell_type": "code",
      "metadata": {
        "id": "xxLDPaVCsyFb",
        "outputId": "c2a1fb6b-f8e5-478e-fa33-e39b82be73a2",
        "colab": {
          "base_uri": "https://localhost:8080/"
        }
      },
      "source": [
        "record"
      ],
      "execution_count": 55,
      "outputs": [
        {
          "output_type": "execute_result",
          "data": {
            "text/plain": [
              "{'1001': {'billi': 138, 'name': 'mic', 'price': 150, 'qn': 40},\n",
              " '1002': {'billi': 229, 'name': 'earphone', 'price': 520, 'qn': 45},\n",
              " '1003': {'billi': 323, 'name': 'speaker', 'price': 1800, 'qn': 60},\n",
              " '1004': {'billi': 332, 'name': 'charger', 'price': 150, 'qn': 26},\n",
              " '1005': {'billi': 232, 'name': 'batery', 'price': 350, 'qn': 47},\n",
              " '1006': {'billi': 256, 'name': 'otg', 'price': 50, 'qn': 65},\n",
              " '1007': {'billi': 262, 'name': 'tshirt', 'price': 150, 'qn': 27},\n",
              " '1008': {'billi': 126, 'name': 'jeans', 'price': 500, 'qn': 57},\n",
              " '1009': {'billi': 253, 'name': 'shoes', 'price': 600, 'qn': 20},\n",
              " '1010': {'billi': 352, 'name': 'footwear', 'price': 160, 'qn': 60},\n",
              " '1011': {'billi': 252, 'name': 'back cover', 'price': 350, 'qn': 50},\n",
              " '1012': {'billi': 522, 'name': 'laptop', 'price': 15000, 'qn': 70},\n",
              " '1013': {'billi': 263, 'name': 'memory', 'price': 450, 'qn': 20},\n",
              " '1014': {'billi': 122, 'name': 'temper glass', 'price': 150, 'qn': 60},\n",
              " '1015': {'billi': 122, 'name': 'milk biscuit', 'price': 5, 'qn': 80},\n",
              " '1016': {'billi': 133, 'name': '5 star', 'price': 5, 'qn': 80},\n",
              " '1017': {'billi': 123, 'name': 'pepsi', 'price': 60, 'qn': 80},\n",
              " '1018': {'billi': 126, 'name': 'dalbut', 'price': 10, 'qn': 30},\n",
              " '1019': {'billi': 120, 'name': 'cycle', 'price': 3000, 'qn': 45},\n",
              " '1020': {'billi': 1233, 'name': 'bike', 'price': 50000, 'qn': 90},\n",
              " '1021': {'billi': 125, 'name': 'car', 'price': 1500000, 'qn': 18},\n",
              " '1022': {'billi': 125, 'name': 'pliers', 'price': 180, 'qn': 19},\n",
              " '1023': {'billi': 128, 'name': 'pechkas', 'price': 100, 'qn': 29},\n",
              " '1024': {'billi': 129, 'name': 'keyboard', 'price': 200, 'qn': 39},\n",
              " '1025': {'billi': 123, 'name': 'mouse', 'price': 350, 'qn': 67},\n",
              " '1026': {'billi': 121, 'name': 'chocolate', 'price': 5, 'qn': 67},\n",
              " '1027': {'billi': 134, 'name': 'switch', 'price': 10, 'qn': 89},\n",
              " '1028': {'billi': 156, 'name': 'tv', 'price': 10000, 'qn': 28},\n",
              " '1029': {'billi': 138, 'name': 'cooler', 'price': 15000, 'qn': 38},\n",
              " '1030': {'billi': 128, 'name': 'ac', 'price': 18000, 'qn': 48}}"
            ]
          },
          "metadata": {},
          "execution_count": 55
        }
      ]
    },
    {
      "cell_type": "code",
      "metadata": {
        "id": "SUeDIs-FszRy",
        "outputId": "b4ad64e5-f3a1-4482-bd3a-015e2a4ced36",
        "colab": {
          "base_uri": "https://localhost:8080/"
        }
      },
      "source": [
        "prod_id = str(input(\"Enter product id:\"))\n",
        "name = str(input(\"Enter name:\"))\n",
        "pr = int(input(\"Enter price:\"))\n",
        "qn = int(input(\"Enter quantity:\"))\n",
        "\n",
        "record[prod_id] = {'name': name, 'price': pr, 'qn': qn}\n",
        "\n",
        "js = json.dumps(record)\n",
        "\n",
        "fd = open(\"record.json\",'w')\n",
        "fd.write(js)\n",
        "fd.close()"
      ],
      "execution_count": 58,
      "outputs": [
        {
          "name": "stdout",
          "output_type": "stream",
          "text": [
            "Enter product id:1032\n",
            "Enter name:notebook\n",
            "Enter price:20\n",
            "Enter quantity:80\n"
          ]
        }
      ]
    },
    {
      "cell_type": "code",
      "metadata": {
        "id": "as5Knp-ytH9I",
        "outputId": "9b0bf83b-865a-464f-f24d-b2f310bcf0da",
        "colab": {
          "base_uri": "https://localhost:8080/"
        }
      },
      "source": [
        "record"
      ],
      "execution_count": 59,
      "outputs": [
        {
          "output_type": "execute_result",
          "data": {
            "text/plain": [
              "{'1001': {'billi': 138, 'name': 'mic', 'price': 150, 'qn': 40},\n",
              " '1002': {'billi': 229, 'name': 'earphone', 'price': 520, 'qn': 45},\n",
              " '1003': {'billi': 323, 'name': 'speaker', 'price': 1800, 'qn': 60},\n",
              " '1004': {'billi': 332, 'name': 'charger', 'price': 150, 'qn': 26},\n",
              " '1005': {'billi': 232, 'name': 'batery', 'price': 350, 'qn': 47},\n",
              " '1006': {'billi': 256, 'name': 'otg', 'price': 50, 'qn': 65},\n",
              " '1007': {'billi': 262, 'name': 'tshirt', 'price': 150, 'qn': 27},\n",
              " '1008': {'billi': 126, 'name': 'jeans', 'price': 500, 'qn': 57},\n",
              " '1009': {'billi': 253, 'name': 'shoes', 'price': 600, 'qn': 20},\n",
              " '1010': {'billi': 352, 'name': 'footwear', 'price': 160, 'qn': 60},\n",
              " '1011': {'billi': 252, 'name': 'back cover', 'price': 350, 'qn': 50},\n",
              " '1012': {'billi': 522, 'name': 'laptop', 'price': 15000, 'qn': 70},\n",
              " '1013': {'billi': 263, 'name': 'memory', 'price': 450, 'qn': 20},\n",
              " '1014': {'billi': 122, 'name': 'temper glass', 'price': 150, 'qn': 60},\n",
              " '1015': {'billi': 122, 'name': 'milk biscuit', 'price': 5, 'qn': 80},\n",
              " '1016': {'billi': 133, 'name': '5 star', 'price': 5, 'qn': 80},\n",
              " '1017': {'billi': 123, 'name': 'pepsi', 'price': 60, 'qn': 80},\n",
              " '1018': {'billi': 126, 'name': 'dalbut', 'price': 10, 'qn': 30},\n",
              " '1019': {'billi': 120, 'name': 'cycle', 'price': 3000, 'qn': 45},\n",
              " '1020': {'billi': 1233, 'name': 'bike', 'price': 50000, 'qn': 90},\n",
              " '1021': {'billi': 125, 'name': 'car', 'price': 1500000, 'qn': 18},\n",
              " '1022': {'billi': 125, 'name': 'pliers', 'price': 180, 'qn': 19},\n",
              " '1023': {'billi': 128, 'name': 'pechkas', 'price': 100, 'qn': 29},\n",
              " '1024': {'billi': 129, 'name': 'keyboard', 'price': 200, 'qn': 39},\n",
              " '1025': {'billi': 123, 'name': 'mouse', 'price': 350, 'qn': 67},\n",
              " '1026': {'billi': 121, 'name': 'chocolate', 'price': 5, 'qn': 67},\n",
              " '1027': {'billi': 134, 'name': 'switch', 'price': 10, 'qn': 89},\n",
              " '1028': {'billi': 156, 'name': 'tv', 'price': 10000, 'qn': 28},\n",
              " '1029': {'billi': 138, 'name': 'cooler', 'price': 15000, 'qn': 38},\n",
              " '1030': {'billi': 128, 'name': 'ac', 'price': 18000, 'qn': 48},\n",
              " '1031': {'name': 'book', 'pr': 100, 'qn': 15},\n",
              " '1032': {'name': 'notebook', 'price': 20, 'qn': 80}}"
            ]
          },
          "metadata": {},
          "execution_count": 59
        }
      ]
    },
    {
      "cell_type": "code",
      "metadata": {
        "id": "yX-NCKTAtkf8"
      },
      "source": [
        "\n",
        "del record['1031']"
      ],
      "execution_count": 60,
      "outputs": []
    },
    {
      "cell_type": "code",
      "metadata": {
        "id": "XFgDHJzJtmLo",
        "outputId": "ab6fa9d5-aec8-4b8d-f731-89f111fde2a0",
        "colab": {
          "base_uri": "https://localhost:8080/"
        }
      },
      "source": [
        "record"
      ],
      "execution_count": 61,
      "outputs": [
        {
          "output_type": "execute_result",
          "data": {
            "text/plain": [
              "{'1001': {'billi': 138, 'name': 'mic', 'price': 150, 'qn': 40},\n",
              " '1002': {'billi': 229, 'name': 'earphone', 'price': 520, 'qn': 45},\n",
              " '1003': {'billi': 323, 'name': 'speaker', 'price': 1800, 'qn': 60},\n",
              " '1004': {'billi': 332, 'name': 'charger', 'price': 150, 'qn': 26},\n",
              " '1005': {'billi': 232, 'name': 'batery', 'price': 350, 'qn': 47},\n",
              " '1006': {'billi': 256, 'name': 'otg', 'price': 50, 'qn': 65},\n",
              " '1007': {'billi': 262, 'name': 'tshirt', 'price': 150, 'qn': 27},\n",
              " '1008': {'billi': 126, 'name': 'jeans', 'price': 500, 'qn': 57},\n",
              " '1009': {'billi': 253, 'name': 'shoes', 'price': 600, 'qn': 20},\n",
              " '1010': {'billi': 352, 'name': 'footwear', 'price': 160, 'qn': 60},\n",
              " '1011': {'billi': 252, 'name': 'back cover', 'price': 350, 'qn': 50},\n",
              " '1012': {'billi': 522, 'name': 'laptop', 'price': 15000, 'qn': 70},\n",
              " '1013': {'billi': 263, 'name': 'memory', 'price': 450, 'qn': 20},\n",
              " '1014': {'billi': 122, 'name': 'temper glass', 'price': 150, 'qn': 60},\n",
              " '1015': {'billi': 122, 'name': 'milk biscuit', 'price': 5, 'qn': 80},\n",
              " '1016': {'billi': 133, 'name': '5 star', 'price': 5, 'qn': 80},\n",
              " '1017': {'billi': 123, 'name': 'pepsi', 'price': 60, 'qn': 80},\n",
              " '1018': {'billi': 126, 'name': 'dalbut', 'price': 10, 'qn': 30},\n",
              " '1019': {'billi': 120, 'name': 'cycle', 'price': 3000, 'qn': 45},\n",
              " '1020': {'billi': 1233, 'name': 'bike', 'price': 50000, 'qn': 90},\n",
              " '1021': {'billi': 125, 'name': 'car', 'price': 1500000, 'qn': 18},\n",
              " '1022': {'billi': 125, 'name': 'pliers', 'price': 180, 'qn': 19},\n",
              " '1023': {'billi': 128, 'name': 'pechkas', 'price': 100, 'qn': 29},\n",
              " '1024': {'billi': 129, 'name': 'keyboard', 'price': 200, 'qn': 39},\n",
              " '1025': {'billi': 123, 'name': 'mouse', 'price': 350, 'qn': 67},\n",
              " '1026': {'billi': 121, 'name': 'chocolate', 'price': 5, 'qn': 67},\n",
              " '1027': {'billi': 134, 'name': 'switch', 'price': 10, 'qn': 89},\n",
              " '1028': {'billi': 156, 'name': 'tv', 'price': 10000, 'qn': 28},\n",
              " '1029': {'billi': 138, 'name': 'cooler', 'price': 15000, 'qn': 38},\n",
              " '1030': {'billi': 128, 'name': 'ac', 'price': 18000, 'qn': 48},\n",
              " '1032': {'name': 'notebook', 'price': 20, 'qn': 80}}"
            ]
          },
          "metadata": {},
          "execution_count": 61
        }
      ]
    },
    {
      "cell_type": "code",
      "metadata": {
        "id": "KzpOVy1GtyoD"
      },
      "source": [
        "import json\n",
        "\n",
        "fd = open(\"record.json\",'r')\n",
        "r = fd.read()\n",
        "fd.close()\n",
        "\n",
        "records = json.loads(r)"
      ],
      "execution_count": 62,
      "outputs": []
    },
    {
      "cell_type": "code",
      "metadata": {
        "id": "gTJo7Q2yt278",
        "outputId": "5986b8d0-0ffb-4dcb-e1f6-69a45350f8f6",
        "colab": {
          "base_uri": "https://localhost:8080/"
        }
      },
      "source": [
        "\n",
        "records"
      ],
      "execution_count": 63,
      "outputs": [
        {
          "output_type": "execute_result",
          "data": {
            "text/plain": [
              "{'1001': {'billi': 138, 'name': 'mic', 'price': 150, 'qn': 40},\n",
              " '1002': {'billi': 229, 'name': 'earphone', 'price': 520, 'qn': 45},\n",
              " '1003': {'billi': 323, 'name': 'speaker', 'price': 1800, 'qn': 60},\n",
              " '1004': {'billi': 332, 'name': 'charger', 'price': 150, 'qn': 26},\n",
              " '1005': {'billi': 232, 'name': 'batery', 'price': 350, 'qn': 47},\n",
              " '1006': {'billi': 256, 'name': 'otg', 'price': 50, 'qn': 65},\n",
              " '1007': {'billi': 262, 'name': 'tshirt', 'price': 150, 'qn': 27},\n",
              " '1008': {'billi': 126, 'name': 'jeans', 'price': 500, 'qn': 57},\n",
              " '1009': {'billi': 253, 'name': 'shoes', 'price': 600, 'qn': 20},\n",
              " '1010': {'billi': 352, 'name': 'footwear', 'price': 160, 'qn': 60},\n",
              " '1011': {'billi': 252, 'name': 'back cover', 'price': 350, 'qn': 50},\n",
              " '1012': {'billi': 522, 'name': 'laptop', 'price': 15000, 'qn': 70},\n",
              " '1013': {'billi': 263, 'name': 'memory', 'price': 450, 'qn': 20},\n",
              " '1014': {'billi': 122, 'name': 'temper glass', 'price': 150, 'qn': 60},\n",
              " '1015': {'billi': 122, 'name': 'milk biscuit', 'price': 5, 'qn': 80},\n",
              " '1016': {'billi': 133, 'name': '5 star', 'price': 5, 'qn': 80},\n",
              " '1017': {'billi': 123, 'name': 'pepsi', 'price': 60, 'qn': 80},\n",
              " '1018': {'billi': 126, 'name': 'dalbut', 'price': 10, 'qn': 30},\n",
              " '1019': {'billi': 120, 'name': 'cycle', 'price': 3000, 'qn': 45},\n",
              " '1020': {'billi': 1233, 'name': 'bike', 'price': 50000, 'qn': 90},\n",
              " '1021': {'billi': 125, 'name': 'car', 'price': 1500000, 'qn': 18},\n",
              " '1022': {'billi': 125, 'name': 'pliers', 'price': 180, 'qn': 19},\n",
              " '1023': {'billi': 128, 'name': 'pechkas', 'price': 100, 'qn': 29},\n",
              " '1024': {'billi': 129, 'name': 'keyboard', 'price': 200, 'qn': 39},\n",
              " '1025': {'billi': 123, 'name': 'mouse', 'price': 350, 'qn': 67},\n",
              " '1026': {'billi': 121, 'name': 'chocolate', 'price': 5, 'qn': 67},\n",
              " '1027': {'billi': 134, 'name': 'switch', 'price': 10, 'qn': 89},\n",
              " '1028': {'billi': 156, 'name': 'tv', 'price': 10000, 'qn': 28},\n",
              " '1029': {'billi': 138, 'name': 'cooler', 'price': 15000, 'qn': 38},\n",
              " '1030': {'billi': 128, 'name': 'ac', 'price': 18000, 'qn': 48},\n",
              " '1031': {'name': 'book', 'pr': 100, 'qn': 15},\n",
              " '1032': {'name': 'notebook', 'price': 20, 'qn': 80}}"
            ]
          },
          "metadata": {},
          "execution_count": 63
        }
      ]
    },
    {
      "cell_type": "code",
      "metadata": {
        "id": "NG3PmRw5t7i8",
        "outputId": "4e88d314-aa4c-4033-80f3-946279afc77a",
        "colab": {
          "base_uri": "https://localhost:8080/"
        }
      },
      "source": [
        "ui_prod  = str(input(\"Enter the product_Id: \"))\n",
        "ui_quant = int(input(\"Enter the quantity: \"))\n",
        "\n",
        "\n",
        "print(\"Product: \", records[ui_prod]['name'])\n",
        "print(\"Price: \", records[ui_prod]['price'])\n",
        "print(\"Billing Amount: \", records[ui_prod]['price'] * ui_quant)\n",
        "\n",
        "records[ui_prod]['qn'] = records[ui_prod]['qn'] - ui_quant"
      ],
      "execution_count": 72,
      "outputs": [
        {
          "output_type": "stream",
          "name": "stdout",
          "text": [
            "Enter the product_Id: 1017\n",
            "Enter the quantity: 2\n",
            "Product:  pepsi\n",
            "Price:  60\n",
            "Billing Amount:  120\n"
          ]
        }
      ]
    },
    {
      "cell_type": "code",
      "metadata": {
        "id": "0YlXrYEeuRmG"
      },
      "source": [
        "js = json.dumps(records)\n",
        "\n",
        "fd = open(\"record.json\",'w')\n",
        "fd.write(js)\n",
        "fd.close()"
      ],
      "execution_count": 73,
      "outputs": []
    },
    {
      "cell_type": "code",
      "metadata": {
        "id": "YYXzxVS_uh8n",
        "outputId": "c3d1336f-8a81-48a3-990a-06e30b1a99e7",
        "colab": {
          "base_uri": "https://localhost:8080/"
        }
      },
      "source": [
        "{'prod' : ui_prod, 'qn' : ui_quant, 'amount': records[ui_prod]['price'] * ui_quant}"
      ],
      "execution_count": 74,
      "outputs": [
        {
          "output_type": "execute_result",
          "data": {
            "text/plain": [
              "{'amount': 120, 'prod': '1017', 'qn': 2}"
            ]
          },
          "metadata": {},
          "execution_count": 74
        }
      ]
    },
    {
      "cell_type": "code",
      "metadata": {
        "id": "NpPfmEd3uyOO"
      },
      "source": [
        "sales = {1 : {'prod' : ui_prod, 'qn' : ui_quant, 'amount': records[ui_prod]['price'] * ui_quant},\n",
        "         2 : {'prod' : ui_prod, 'qn' : ui_quant, 'amount': records[ui_prod]['price'] * ui_quant},\n",
        "         3 : {'prod' : ui_prod, 'qn' : ui_quant, 'amount': records[ui_prod]['price'] * ui_quant}}"
      ],
      "execution_count": 75,
      "outputs": []
    }
  ]
}